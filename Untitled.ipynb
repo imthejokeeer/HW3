{
 "cells": [
  {
   "cell_type": "code",
   "execution_count": 2,
   "id": "a8b4ada2-9c0d-45da-9c22-c7b83cdd53e1",
   "metadata": {},
   "outputs": [
    {
     "name": "stdin",
     "output_type": "stream",
     "text": [
      "Введите температуру (например, 25C или 77F):  24c\n"
     ]
    },
    {
     "name": "stdout",
     "output_type": "stream",
     "text": [
      "75.2F\n"
     ]
    }
   ],
   "source": [
    "def convert_temperature(temp_str):\n",
    "\n",
    "    try:\n",
    "        temp = int(temp_str[:-1])  # Извлекаем числовое значение температуры\n",
    "        scale = temp_str[-1].upper() # Извлекаем шкалу (C или F)\n",
    "\n",
    "        if scale == 'C':\n",
    "            fahrenheit = (temp * 9/5) + 32\n",
    "            return f\"{fahrenheit:.1f}F\"  # Выводим с одним знаком после запятой\n",
    "        elif scale == 'F':\n",
    "            celsius = (temp - 32) * 5/9\n",
    "            return f\"{celsius:.1f}C\"\n",
    "        else:\n",
    "            return \"Ошибка\"\n",
    "\n",
    "    except ValueError:\n",
    "        return \"Ошибка\"\n",
    "    except IndexError:\n",
    "        return \"Ошибка\"\n",
    "\n",
    "\n",
    "if __name__ == \"__main__\":\n",
    "    temp_input = input(\"Введите температуру (например, 25C или 77F): \")\n",
    "    result = convert_temperature(temp_input)\n",
    "    print(result)"
   ]
  },
  {
   "cell_type": "code",
   "execution_count": 3,
   "id": "5e572659-ca36-43c3-a34f-67eb5ac8f343",
   "metadata": {},
   "outputs": [
    {
     "name": "stdin",
     "output_type": "stream",
     "text": [
      "Введите температуру (например, 25C или 77F):  344f\n"
     ]
    },
    {
     "name": "stdout",
     "output_type": "stream",
     "text": [
      "173.3C\n"
     ]
    }
   ],
   "source": [
    "if __name__ == \"__main__\":\n",
    "    temp_input = input(\"Введите температуру (например, 25C или 77F): \")\n",
    "    result = convert_temperature(temp_input)\n",
    "    print(result)"
   ]
  },
  {
   "cell_type": "code",
   "execution_count": 4,
   "id": "d6e8441c-7c09-4c25-b531-7e67d1414c71",
   "metadata": {},
   "outputs": [
    {
     "name": "stdin",
     "output_type": "stream",
     "text": [
      "Введите температуру (например, 25C или 77F):  23\n"
     ]
    },
    {
     "name": "stdout",
     "output_type": "stream",
     "text": [
      "Ошибка\n"
     ]
    }
   ],
   "source": [
    "if __name__ == \"__main__\":\n",
    "    temp_input = input(\"Введите температуру (например, 25C или 77F): \")\n",
    "    result = convert_temperature(temp_input)\n",
    "    print(result)"
   ]
  },
  {
   "cell_type": "code",
   "execution_count": 5,
   "id": "eb986fe8-cc83-4dcf-b115-1174b2b5373f",
   "metadata": {},
   "outputs": [
    {
     "name": "stdin",
     "output_type": "stream",
     "text": [
      "Введите температуру (например, 25C или 77F):  23ф\n"
     ]
    },
    {
     "name": "stdout",
     "output_type": "stream",
     "text": [
      "Ошибка\n"
     ]
    }
   ],
   "source": [
    "if __name__ == \"__main__\":\n",
    "    temp_input = input(\"Введите температуру (например, 25C или 77F): \")\n",
    "    result = convert_temperature(temp_input)\n",
    "    print(result)"
   ]
  }
 ],
 "metadata": {
  "kernelspec": {
   "display_name": "Python 3 (ipykernel)",
   "language": "python",
   "name": "python3"
  },
  "language_info": {
   "codemirror_mode": {
    "name": "ipython",
    "version": 3
   },
   "file_extension": ".py",
   "mimetype": "text/x-python",
   "name": "python",
   "nbconvert_exporter": "python",
   "pygments_lexer": "ipython3",
   "version": "3.12.5"
  }
 },
 "nbformat": 4,
 "nbformat_minor": 5
}
